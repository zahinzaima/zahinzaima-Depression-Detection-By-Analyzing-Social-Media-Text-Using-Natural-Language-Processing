{
  "cells": [
    {
      "cell_type": "code",
      "execution_count": null,
      "metadata": {
        "colab": {
          "base_uri": "https://localhost:8080/"
        },
        "id": "GxYJkFVADf6x",
        "outputId": "9fae2342-9ca6-491f-8ff7-b80e116762b7"
      },
      "outputs": [
        {
          "output_type": "stream",
          "name": "stdout",
          "text": [
            "Mounted at /content/drive\n"
          ]
        }
      ],
      "source": [
        "# linked google drive\n",
        "from google.colab import drive\n",
        "drive.mount(\"/content/drive\")"
      ]
    },
    {
      "cell_type": "code",
      "execution_count": null,
      "metadata": {
        "colab": {
          "base_uri": "https://localhost:8080/"
        },
        "id": "DkuDgHV7E3xl",
        "outputId": "260d2f08-54b7-46c0-9786-f9a2b42e3d49"
      },
      "outputs": [
        {
          "output_type": "stream",
          "name": "stderr",
          "text": [
            "[nltk_data] Downloading package punkt to /root/nltk_data...\n",
            "[nltk_data]   Unzipping tokenizers/punkt.zip.\n",
            "[nltk_data] Downloading package wordnet to /root/nltk_data...\n",
            "[nltk_data] Downloading package stopwords to /root/nltk_data...\n",
            "[nltk_data]   Unzipping corpora/stopwords.zip.\n"
          ]
        },
        {
          "output_type": "execute_result",
          "data": {
            "text/plain": [
              "True"
            ]
          },
          "metadata": {},
          "execution_count": 2
        }
      ],
      "source": [
        "# all imports\n",
        "import pandas as pd\n",
        "import numpy as np\n",
        "import re\n",
        "import nltk\n",
        "import seaborn as sns\n",
        "import matplotlib.pyplot as plt\n",
        "from nltk.corpus import stopwords\n",
        "from nltk.stem import WordNetLemmatizer, PorterStemmer\n",
        "from textblob import TextBlob\n",
        "from sklearn.feature_extraction.text import TfidfVectorizer, CountVectorizer\n",
        "from sklearn.model_selection import train_test_split\n",
        "from sklearn.preprocessing import LabelEncoder\n",
        "from sklearn.linear_model import LogisticRegression\n",
        "from sklearn.metrics import accuracy_score\n",
        "nltk.download('punkt')\n",
        "nltk.download('wordnet')\n",
        "nltk.download('stopwords')"
      ]
    },
    {
      "cell_type": "code",
      "execution_count": null,
      "metadata": {
        "id": "GnUsaU4c8lGk"
      },
      "outputs": [],
      "source": [
        "# stopwords modification\n",
        "sw = stopwords.words('english')\n",
        "sw = sw + ['im', 'dont', 'ive']"
      ]
    },
    {
      "cell_type": "markdown",
      "source": [
        "# Preprocessing"
      ],
      "metadata": {
        "id": "b9_O0mhwVUee"
      }
    },
    {
      "cell_type": "code",
      "execution_count": null,
      "metadata": {
        "colab": {
          "base_uri": "https://localhost:8080/"
        },
        "id": "ucz85ulpFGNz",
        "outputId": "c13b99a7-ed2f-45a2-d91d-01f0be57556e"
      },
      "outputs": [
        {
          "output_type": "stream",
          "name": "stdout",
          "text": [
            "(150, 2)\n"
          ]
        },
        {
          "output_type": "execute_result",
          "data": {
            "text/plain": [
              "text     0\n",
              "class    0\n",
              "dtype: int64"
            ]
          },
          "metadata": {},
          "execution_count": 27
        }
      ],
      "source": [
        "# csv to pandas_dataframe\n",
        "data_set = pd.read_csv(\"/content/drive/MyDrive/CSE422 Project/suicide_detection.csv\", index_col=0)\n",
        "data_set.head(5)\n",
        "data_set = data_set.iloc[:150, :]\n",
        "print(data_set.shape)\n",
        "data_set.head(5)\n",
        "\n",
        "# checking for null values\n",
        "data_set.isnull().sum()"
      ]
    },
    {
      "cell_type": "code",
      "execution_count": null,
      "metadata": {
        "id": "sBfAwd1hNAhm"
      },
      "outputs": [],
      "source": [
        "# pre processing\n",
        "def clean_the_data(text):\n",
        "    global count\n",
        "\n",
        "    # removed symbols, punctution, links and lowercased the text \n",
        "    pattern = \"[^\\w^\\s]|^http.*\"\n",
        "    clean_text = re.sub(pattern, \"\", text).lower()\n",
        "\n",
        "    # corrected grammartical errors\n",
        "    tb = TextBlob(clean_text)\n",
        "    correct_text = tb.correct().string\n",
        "\n",
        "    # applied word tokenization ex. [\"i\", \"am\", \"ashik\"]\n",
        "    tokenized = nltk.word_tokenize(correct_text)\n",
        "    \n",
        "    # removed stop words(i, am, is, are, of, for...)\n",
        "    removed_stop_words = []\n",
        "    for i in tokenized:\n",
        "        if i not in sw:\n",
        "            removed_stop_words.append(i)\n",
        "\n",
        "    # wordnetlemmatizer and stemmer converts each words to it's root form \n",
        "    # ex. gives --> give, giving --> give\n",
        "    processed_sentence = \"\"\n",
        "    wnl = WordNetLemmatizer()\n",
        "    ps = PorterStemmer()\n",
        "    for j in removed_stop_words: \n",
        "        lemmatized_word = wnl.lemmatize(j)\n",
        "        processed_sentence += ps.stem(lemmatized_word) + \" \"\n",
        "    count += 1\n",
        "    print(count)\n",
        "    return processed_sentence[:-1]"
      ]
    },
    {
      "cell_type": "code",
      "execution_count": null,
      "metadata": {
        "id": "JyYO37WZNsPL"
      },
      "outputs": [],
      "source": [
        "# function call\n",
        "count = 0\n",
        "data_set[\"text\"] = data_set[\"text\"].apply(clean_the_data)"
      ]
    },
    {
      "cell_type": "code",
      "execution_count": null,
      "metadata": {
        "colab": {
          "base_uri": "https://localhost:8080/",
          "height": 206
        },
        "id": "Hci81DKUDUiW",
        "outputId": "3d28e88e-0349-4082-e3f4-5db655f35cd8"
      },
      "outputs": [
        {
          "output_type": "execute_result",
          "data": {
            "text/plain": [
              "                                                text  class\n",
              "2  ex wife threaten suiciderec left wife good cre...      1\n",
              "3  weird get affect compliment come someon know g...      0\n",
              "4  final 2020 almost never hear 2020 bad year eve...      0\n",
              "8                        need helpjust help cri hard      1\n",
              "9  losthello name adam 16 give struggl year afrai...      1"
            ],
            "text/html": [
              "\n",
              "  <div id=\"df-b94dd0ae-bb90-420b-b8c2-1a33f8bb8f5b\">\n",
              "    <div class=\"colab-df-container\">\n",
              "      <div>\n",
              "<style scoped>\n",
              "    .dataframe tbody tr th:only-of-type {\n",
              "        vertical-align: middle;\n",
              "    }\n",
              "\n",
              "    .dataframe tbody tr th {\n",
              "        vertical-align: top;\n",
              "    }\n",
              "\n",
              "    .dataframe thead th {\n",
              "        text-align: right;\n",
              "    }\n",
              "</style>\n",
              "<table border=\"1\" class=\"dataframe\">\n",
              "  <thead>\n",
              "    <tr style=\"text-align: right;\">\n",
              "      <th></th>\n",
              "      <th>text</th>\n",
              "      <th>class</th>\n",
              "    </tr>\n",
              "  </thead>\n",
              "  <tbody>\n",
              "    <tr>\n",
              "      <th>2</th>\n",
              "      <td>ex wife threaten suiciderec left wife good cre...</td>\n",
              "      <td>1</td>\n",
              "    </tr>\n",
              "    <tr>\n",
              "      <th>3</th>\n",
              "      <td>weird get affect compliment come someon know g...</td>\n",
              "      <td>0</td>\n",
              "    </tr>\n",
              "    <tr>\n",
              "      <th>4</th>\n",
              "      <td>final 2020 almost never hear 2020 bad year eve...</td>\n",
              "      <td>0</td>\n",
              "    </tr>\n",
              "    <tr>\n",
              "      <th>8</th>\n",
              "      <td>need helpjust help cri hard</td>\n",
              "      <td>1</td>\n",
              "    </tr>\n",
              "    <tr>\n",
              "      <th>9</th>\n",
              "      <td>losthello name adam 16 give struggl year afrai...</td>\n",
              "      <td>1</td>\n",
              "    </tr>\n",
              "  </tbody>\n",
              "</table>\n",
              "</div>\n",
              "      <button class=\"colab-df-convert\" onclick=\"convertToInteractive('df-b94dd0ae-bb90-420b-b8c2-1a33f8bb8f5b')\"\n",
              "              title=\"Convert this dataframe to an interactive table.\"\n",
              "              style=\"display:none;\">\n",
              "        \n",
              "  <svg xmlns=\"http://www.w3.org/2000/svg\" height=\"24px\"viewBox=\"0 0 24 24\"\n",
              "       width=\"24px\">\n",
              "    <path d=\"M0 0h24v24H0V0z\" fill=\"none\"/>\n",
              "    <path d=\"M18.56 5.44l.94 2.06.94-2.06 2.06-.94-2.06-.94-.94-2.06-.94 2.06-2.06.94zm-11 1L8.5 8.5l.94-2.06 2.06-.94-2.06-.94L8.5 2.5l-.94 2.06-2.06.94zm10 10l.94 2.06.94-2.06 2.06-.94-2.06-.94-.94-2.06-.94 2.06-2.06.94z\"/><path d=\"M17.41 7.96l-1.37-1.37c-.4-.4-.92-.59-1.43-.59-.52 0-1.04.2-1.43.59L10.3 9.45l-7.72 7.72c-.78.78-.78 2.05 0 2.83L4 21.41c.39.39.9.59 1.41.59.51 0 1.02-.2 1.41-.59l7.78-7.78 2.81-2.81c.8-.78.8-2.07 0-2.86zM5.41 20L4 18.59l7.72-7.72 1.47 1.35L5.41 20z\"/>\n",
              "  </svg>\n",
              "      </button>\n",
              "      \n",
              "  <style>\n",
              "    .colab-df-container {\n",
              "      display:flex;\n",
              "      flex-wrap:wrap;\n",
              "      gap: 12px;\n",
              "    }\n",
              "\n",
              "    .colab-df-convert {\n",
              "      background-color: #E8F0FE;\n",
              "      border: none;\n",
              "      border-radius: 50%;\n",
              "      cursor: pointer;\n",
              "      display: none;\n",
              "      fill: #1967D2;\n",
              "      height: 32px;\n",
              "      padding: 0 0 0 0;\n",
              "      width: 32px;\n",
              "    }\n",
              "\n",
              "    .colab-df-convert:hover {\n",
              "      background-color: #E2EBFA;\n",
              "      box-shadow: 0px 1px 2px rgba(60, 64, 67, 0.3), 0px 1px 3px 1px rgba(60, 64, 67, 0.15);\n",
              "      fill: #174EA6;\n",
              "    }\n",
              "\n",
              "    [theme=dark] .colab-df-convert {\n",
              "      background-color: #3B4455;\n",
              "      fill: #D2E3FC;\n",
              "    }\n",
              "\n",
              "    [theme=dark] .colab-df-convert:hover {\n",
              "      background-color: #434B5C;\n",
              "      box-shadow: 0px 1px 3px 1px rgba(0, 0, 0, 0.15);\n",
              "      filter: drop-shadow(0px 1px 2px rgba(0, 0, 0, 0.3));\n",
              "      fill: #FFFFFF;\n",
              "    }\n",
              "  </style>\n",
              "\n",
              "      <script>\n",
              "        const buttonEl =\n",
              "          document.querySelector('#df-b94dd0ae-bb90-420b-b8c2-1a33f8bb8f5b button.colab-df-convert');\n",
              "        buttonEl.style.display =\n",
              "          google.colab.kernel.accessAllowed ? 'block' : 'none';\n",
              "\n",
              "        async function convertToInteractive(key) {\n",
              "          const element = document.querySelector('#df-b94dd0ae-bb90-420b-b8c2-1a33f8bb8f5b');\n",
              "          const dataTable =\n",
              "            await google.colab.kernel.invokeFunction('convertToInteractive',\n",
              "                                                     [key], {});\n",
              "          if (!dataTable) return;\n",
              "\n",
              "          const docLinkHtml = 'Like what you see? Visit the ' +\n",
              "            '<a target=\"_blank\" href=https://colab.research.google.com/notebooks/data_table.ipynb>data table notebook</a>'\n",
              "            + ' to learn more about interactive tables.';\n",
              "          element.innerHTML = '';\n",
              "          dataTable['output_type'] = 'display_data';\n",
              "          await google.colab.output.renderOutput(dataTable, element);\n",
              "          const docLink = document.createElement('div');\n",
              "          docLink.innerHTML = docLinkHtml;\n",
              "          element.appendChild(docLink);\n",
              "        }\n",
              "      </script>\n",
              "    </div>\n",
              "  </div>\n",
              "  "
            ]
          },
          "metadata": {},
          "execution_count": 51
        }
      ],
      "source": [
        "# cleaned dataset\n",
        "data_set.head(5)"
      ]
    },
    {
      "cell_type": "code",
      "execution_count": null,
      "metadata": {
        "id": "u6pre7htwx2y",
        "colab": {
          "base_uri": "https://localhost:8080/",
          "height": 363
        },
        "outputId": "2d88e8cc-9aa1-4fc2-a99b-22e00e395265"
      },
      "outputs": [
        {
          "output_type": "execute_result",
          "data": {
            "text/plain": [
              "                                                 text  class\n",
              "2   ex wife threaten suiciderec left wife good cre...      1\n",
              "3   weird get affect compliment come someon know g...      0\n",
              "4   final 2020 almost never hear 2020 bad year eve...      0\n",
              "8                         need helpjust help cri hard      1\n",
              "9   losthello name adam 16 give struggl year afrai...      1\n",
              "11  honestli idea know even feel like noth nowher ...      1\n",
              "12  trigger warn excus self inflict burn know cris...      1\n",
              "13                            end tonight anymor quit      1\n",
              "16  everyon want edg make self consciou feel like ...      0\n",
              "18  life 20 year oldhello 20 year old bold male ai...      1"
            ],
            "text/html": [
              "\n",
              "  <div id=\"df-a3b72bcf-c04d-4cbe-baab-9f0bf6c5b1a9\">\n",
              "    <div class=\"colab-df-container\">\n",
              "      <div>\n",
              "<style scoped>\n",
              "    .dataframe tbody tr th:only-of-type {\n",
              "        vertical-align: middle;\n",
              "    }\n",
              "\n",
              "    .dataframe tbody tr th {\n",
              "        vertical-align: top;\n",
              "    }\n",
              "\n",
              "    .dataframe thead th {\n",
              "        text-align: right;\n",
              "    }\n",
              "</style>\n",
              "<table border=\"1\" class=\"dataframe\">\n",
              "  <thead>\n",
              "    <tr style=\"text-align: right;\">\n",
              "      <th></th>\n",
              "      <th>text</th>\n",
              "      <th>class</th>\n",
              "    </tr>\n",
              "  </thead>\n",
              "  <tbody>\n",
              "    <tr>\n",
              "      <th>2</th>\n",
              "      <td>ex wife threaten suiciderec left wife good cre...</td>\n",
              "      <td>1</td>\n",
              "    </tr>\n",
              "    <tr>\n",
              "      <th>3</th>\n",
              "      <td>weird get affect compliment come someon know g...</td>\n",
              "      <td>0</td>\n",
              "    </tr>\n",
              "    <tr>\n",
              "      <th>4</th>\n",
              "      <td>final 2020 almost never hear 2020 bad year eve...</td>\n",
              "      <td>0</td>\n",
              "    </tr>\n",
              "    <tr>\n",
              "      <th>8</th>\n",
              "      <td>need helpjust help cri hard</td>\n",
              "      <td>1</td>\n",
              "    </tr>\n",
              "    <tr>\n",
              "      <th>9</th>\n",
              "      <td>losthello name adam 16 give struggl year afrai...</td>\n",
              "      <td>1</td>\n",
              "    </tr>\n",
              "    <tr>\n",
              "      <th>11</th>\n",
              "      <td>honestli idea know even feel like noth nowher ...</td>\n",
              "      <td>1</td>\n",
              "    </tr>\n",
              "    <tr>\n",
              "      <th>12</th>\n",
              "      <td>trigger warn excus self inflict burn know cris...</td>\n",
              "      <td>1</td>\n",
              "    </tr>\n",
              "    <tr>\n",
              "      <th>13</th>\n",
              "      <td>end tonight anymor quit</td>\n",
              "      <td>1</td>\n",
              "    </tr>\n",
              "    <tr>\n",
              "      <th>16</th>\n",
              "      <td>everyon want edg make self consciou feel like ...</td>\n",
              "      <td>0</td>\n",
              "    </tr>\n",
              "    <tr>\n",
              "      <th>18</th>\n",
              "      <td>life 20 year oldhello 20 year old bold male ai...</td>\n",
              "      <td>1</td>\n",
              "    </tr>\n",
              "  </tbody>\n",
              "</table>\n",
              "</div>\n",
              "      <button class=\"colab-df-convert\" onclick=\"convertToInteractive('df-a3b72bcf-c04d-4cbe-baab-9f0bf6c5b1a9')\"\n",
              "              title=\"Convert this dataframe to an interactive table.\"\n",
              "              style=\"display:none;\">\n",
              "        \n",
              "  <svg xmlns=\"http://www.w3.org/2000/svg\" height=\"24px\"viewBox=\"0 0 24 24\"\n",
              "       width=\"24px\">\n",
              "    <path d=\"M0 0h24v24H0V0z\" fill=\"none\"/>\n",
              "    <path d=\"M18.56 5.44l.94 2.06.94-2.06 2.06-.94-2.06-.94-.94-2.06-.94 2.06-2.06.94zm-11 1L8.5 8.5l.94-2.06 2.06-.94-2.06-.94L8.5 2.5l-.94 2.06-2.06.94zm10 10l.94 2.06.94-2.06 2.06-.94-2.06-.94-.94-2.06-.94 2.06-2.06.94z\"/><path d=\"M17.41 7.96l-1.37-1.37c-.4-.4-.92-.59-1.43-.59-.52 0-1.04.2-1.43.59L10.3 9.45l-7.72 7.72c-.78.78-.78 2.05 0 2.83L4 21.41c.39.39.9.59 1.41.59.51 0 1.02-.2 1.41-.59l7.78-7.78 2.81-2.81c.8-.78.8-2.07 0-2.86zM5.41 20L4 18.59l7.72-7.72 1.47 1.35L5.41 20z\"/>\n",
              "  </svg>\n",
              "      </button>\n",
              "      \n",
              "  <style>\n",
              "    .colab-df-container {\n",
              "      display:flex;\n",
              "      flex-wrap:wrap;\n",
              "      gap: 12px;\n",
              "    }\n",
              "\n",
              "    .colab-df-convert {\n",
              "      background-color: #E8F0FE;\n",
              "      border: none;\n",
              "      border-radius: 50%;\n",
              "      cursor: pointer;\n",
              "      display: none;\n",
              "      fill: #1967D2;\n",
              "      height: 32px;\n",
              "      padding: 0 0 0 0;\n",
              "      width: 32px;\n",
              "    }\n",
              "\n",
              "    .colab-df-convert:hover {\n",
              "      background-color: #E2EBFA;\n",
              "      box-shadow: 0px 1px 2px rgba(60, 64, 67, 0.3), 0px 1px 3px 1px rgba(60, 64, 67, 0.15);\n",
              "      fill: #174EA6;\n",
              "    }\n",
              "\n",
              "    [theme=dark] .colab-df-convert {\n",
              "      background-color: #3B4455;\n",
              "      fill: #D2E3FC;\n",
              "    }\n",
              "\n",
              "    [theme=dark] .colab-df-convert:hover {\n",
              "      background-color: #434B5C;\n",
              "      box-shadow: 0px 1px 3px 1px rgba(0, 0, 0, 0.15);\n",
              "      filter: drop-shadow(0px 1px 2px rgba(0, 0, 0, 0.3));\n",
              "      fill: #FFFFFF;\n",
              "    }\n",
              "  </style>\n",
              "\n",
              "      <script>\n",
              "        const buttonEl =\n",
              "          document.querySelector('#df-a3b72bcf-c04d-4cbe-baab-9f0bf6c5b1a9 button.colab-df-convert');\n",
              "        buttonEl.style.display =\n",
              "          google.colab.kernel.accessAllowed ? 'block' : 'none';\n",
              "\n",
              "        async function convertToInteractive(key) {\n",
              "          const element = document.querySelector('#df-a3b72bcf-c04d-4cbe-baab-9f0bf6c5b1a9');\n",
              "          const dataTable =\n",
              "            await google.colab.kernel.invokeFunction('convertToInteractive',\n",
              "                                                     [key], {});\n",
              "          if (!dataTable) return;\n",
              "\n",
              "          const docLinkHtml = 'Like what you see? Visit the ' +\n",
              "            '<a target=\"_blank\" href=https://colab.research.google.com/notebooks/data_table.ipynb>data table notebook</a>'\n",
              "            + ' to learn more about interactive tables.';\n",
              "          element.innerHTML = '';\n",
              "          dataTable['output_type'] = 'display_data';\n",
              "          await google.colab.output.renderOutput(dataTable, element);\n",
              "          const docLink = document.createElement('div');\n",
              "          docLink.innerHTML = docLinkHtml;\n",
              "          element.appendChild(docLink);\n",
              "        }\n",
              "      </script>\n",
              "    </div>\n",
              "  </div>\n",
              "  "
            ]
          },
          "metadata": {},
          "execution_count": 29
        }
      ],
      "source": [
        "# label encoding\n",
        "y = data_set[\"class\"]\n",
        "encoder = LabelEncoder()\n",
        "y = encoder.fit_transform(y)\n",
        "data_set[\"class\"] = y\n",
        "data_set.head(10)"
      ]
    },
    {
      "cell_type": "markdown",
      "source": [
        "# Train Test Spliting"
      ],
      "metadata": {
        "id": "dw6aKamdVGr3"
      }
    },
    {
      "cell_type": "code",
      "execution_count": null,
      "metadata": {
        "colab": {
          "base_uri": "https://localhost:8080/"
        },
        "id": "7UQgQDzuwS-u",
        "outputId": "412978cc-5602-41e2-ec8b-e8261d255b54"
      },
      "outputs": [
        {
          "output_type": "stream",
          "name": "stdout",
          "text": [
            "(120, 1)\n",
            "(30, 1)\n",
            "(120,)\n",
            "(30,)\n"
          ]
        }
      ],
      "source": [
        "x = data_set.drop([\"class\"], axis=1)\n",
        "x_train, x_test, y_train, y_test = train_test_split(x, y, test_size=0.2, random_state=1)\n",
        "\n",
        "print(x_train.shape)\n",
        "print(x_test.shape)\n",
        "print(y_train.shape)\n",
        "print(y_test.shape)"
      ]
    },
    {
      "cell_type": "markdown",
      "source": [
        "# Vectorizing Text Data"
      ],
      "metadata": {
        "id": "FF7M6J0fU1tR"
      }
    },
    {
      "cell_type": "code",
      "execution_count": null,
      "metadata": {
        "colab": {
          "base_uri": "https://localhost:8080/"
        },
        "id": "0HSvzUGe_s0Y",
        "outputId": "b275b250-f437-4fda-9b9c-1198060773c5"
      },
      "outputs": [
        {
          "output_type": "stream",
          "name": "stdout",
          "text": [
            "(120, 2205)\n",
            "(30, 2205)\n",
            "\n",
            "Train Array\n",
            "[[0 0 0 ... 0 0 0]\n",
            " [0 0 0 ... 0 0 0]\n",
            " [0 0 1 ... 0 0 0]\n",
            " ...\n",
            " [0 0 0 ... 0 0 0]\n",
            " [0 0 0 ... 0 0 0]\n",
            " [0 0 1 ... 0 0 0]]\n",
            "\n",
            "Test Array\n",
            "[[0 0 0 ... 0 0 0]\n",
            " [0 0 0 ... 0 0 0]\n",
            " [0 1 0 ... 0 0 0]\n",
            " ...\n",
            " [0 0 0 ... 0 0 0]\n",
            " [0 0 0 ... 0 0 0]\n",
            " [0 0 0 ... 0 0 0]]\n"
          ]
        }
      ],
      "source": [
        "# bag of words\n",
        "cv = CountVectorizer()\n",
        "\n",
        "x_train_bow = cv.fit_transform(x_train['text']).toarray()\n",
        "x_test_bow = cv.transform(x_test['text']).toarray()\n",
        "\n",
        "print(x_train_bow.shape)\n",
        "print(x_test_bow.shape)\n",
        "print(\"\\nTrain Array\")\n",
        "print(x_train_bow)\n",
        "print(\"\\nTest Array\")\n",
        "print(x_test_bow)"
      ]
    },
    {
      "cell_type": "markdown",
      "source": [
        "# Models"
      ],
      "metadata": {
        "id": "ZK1pVS3mc4Zo"
      }
    },
    {
      "cell_type": "code",
      "execution_count": null,
      "metadata": {
        "colab": {
          "base_uri": "https://localhost:8080/"
        },
        "id": "_AcD7hzUu8oA",
        "outputId": "247739a9-ca81-430a-8923-5e44bcbff9ad"
      },
      "outputs": [
        {
          "output_type": "stream",
          "name": "stdout",
          "text": [
            "Accuracy score of logistic regression is 80.0%\n"
          ]
        }
      ],
      "source": [
        "# Model Logistic Regression by Abid Hossain Ashik(20201162)\n",
        "model = LogisticRegression(solver='lbfgs')\n",
        "model.fit(x_train_bow, y_train)\n",
        "y_pre = model.predict(x_test_bow)\n",
        "score = accuracy_score(y_pre, y_test)\n",
        "print(f\"Accuracy score of logistic regression is {score*100}%\")"
      ]
    },
    {
      "cell_type": "code",
      "source": [
        "# pip install mglearn  "
      ],
      "metadata": {
        "id": "7AV6DkucRXFi"
      },
      "execution_count": null,
      "outputs": []
    },
    {
      "cell_type": "code",
      "source": [
        "# import mglearn\n",
        "# mglearn.plots.plot_knn_classification(n_neighbors =3) "
      ],
      "metadata": {
        "id": "-Im6ilDZRigs"
      },
      "execution_count": null,
      "outputs": []
    },
    {
      "cell_type": "code",
      "source": [
        "# KNN model by Ahmed Wasi Bin Faruque(20101352)\n",
        "from sklearn.neighbors import KNeighborsClassifier\n",
        "\n",
        "knn = KNeighborsClassifier(n_neighbors=3)\n",
        "knn.fit(x_train_bow, y_train)\n",
        "\n",
        "\n",
        "y_pred = knn.predict(x_test_bow)\n",
        "\n",
        "score = accuracy_score(y_pred, y_test)\n",
        "print(f\"Accuracy score of KNN is {score*100}%\")"
      ],
      "metadata": {
        "id": "vIQY7CoBe52F",
        "colab": {
          "base_uri": "https://localhost:8080/"
        },
        "outputId": "09493f3a-f9df-4b8e-b2f2-dcf0a76b6f7f"
      },
      "execution_count": null,
      "outputs": [
        {
          "output_type": "stream",
          "name": "stdout",
          "text": [
            "Accuracy score of KNN is 66.66666666666666%\n"
          ]
        }
      ]
    },
    {
      "cell_type": "code",
      "source": [
        "# Model Dicision Tree by Md Yasin(20201157)\n",
        "from sklearn.tree import DecisionTreeClassifier\n",
        "model=DecisionTreeClassifier()\n",
        "model.fit(x_train_bow, y_train)\n",
        "y_pred = model.predict(x_test_bow)\n",
        "score = accuracy_score(y_test,y_pred)\n",
        "print(f\"Accuracy score of Decision Tree model is  {score*100}%\")"
      ],
      "metadata": {
        "id": "TqmfD6NZtUN3",
        "colab": {
          "base_uri": "https://localhost:8080/"
        },
        "outputId": "7dced364-3c65-4235-9fc0-75504cfd11ff"
      },
      "execution_count": null,
      "outputs": [
        {
          "output_type": "stream",
          "name": "stdout",
          "text": [
            "Accuracy score of Decision Tree model is  86.66666666666667%\n"
          ]
        }
      ]
    },
    {
      "cell_type": "code",
      "source": [
        "# Model Random Forest by Md Yasin(20201157)\n",
        "from sklearn.ensemble import RandomForestClassifier\n",
        "model = RandomForestClassifier()\n",
        "model.fit(x_train_bow,y_train)\n",
        "y_pred = model.predict(x_test_bow)\n",
        "score = accuracy_score(y_test,y_pred)\n",
        "print(f\"Accuracy score of Random Forest model is  {score*100}%\")"
      ],
      "metadata": {
        "id": "kMYa8lDTe17z",
        "colab": {
          "base_uri": "https://localhost:8080/"
        },
        "outputId": "578c88e2-3d54-4b9d-da8c-400245a441f0"
      },
      "execution_count": null,
      "outputs": [
        {
          "output_type": "stream",
          "name": "stdout",
          "text": [
            "Accuracy score of Random Forest model is  83.33333333333334%\n"
          ]
        }
      ]
    },
    {
      "cell_type": "code",
      "source": [
        "from sklearn.metrics import confusion_matrix\n",
        "cm=confusion_matrix(y_test,y_pred)\n",
        "cm"
      ],
      "metadata": {
        "id": "KbR2trmUlDnP",
        "colab": {
          "base_uri": "https://localhost:8080/"
        },
        "outputId": "5baccaa4-63bf-4b46-d9bc-047f270ff5fa"
      },
      "execution_count": null,
      "outputs": [
        {
          "output_type": "execute_result",
          "data": {
            "text/plain": [
              "array([[11,  1],\n",
              "       [ 4, 14]])"
            ]
          },
          "metadata": {},
          "execution_count": 37
        }
      ]
    },
    {
      "cell_type": "code",
      "source": [
        "%matplotlib inline\n",
        "import matplotlib.pyplot as plt\n",
        "import seaborn as sn\n",
        "plt.figure(figsize=(10,7))\n",
        "sn.heatmap(cm,annot=True)\n",
        "plt.xlabel(\"Predicted\")\n",
        "plt.ylabel(\"Truth\")"
      ],
      "metadata": {
        "id": "tIysR6FqlLRo",
        "colab": {
          "base_uri": "https://localhost:8080/",
          "height": 641
        },
        "outputId": "196a41b1-8a0b-4520-82d4-394a1d209d3e"
      },
      "execution_count": null,
      "outputs": [
        {
          "output_type": "execute_result",
          "data": {
            "text/plain": [
              "Text(95.72222222222221, 0.5, 'Truth')"
            ]
          },
          "metadata": {},
          "execution_count": 38
        },
        {
          "output_type": "display_data",
          "data": {
            "text/plain": [
              "<Figure size 1000x700 with 2 Axes>"
            ],
            "image/png": "[encoded data removed]"
          },
          "metadata": {}
        }
      ]
    },
    {
      "cell_type": "code",
      "source": [
        "# Naive Byas by Zahin Zaima(20201147)\n",
        "from sklearn.naive_bayes import GaussianNB\n",
        "gnb = GaussianNB()             # I create a object gnb\n",
        "gnb.fit(x_train_bow,y_train)   # i am trainning my data here and fitted that data in gnb object\n",
        "score = gnb.score(x_test_bow,y_test)  \n",
        "print(f\"Accuracy score of GaussianNB model is  {score*100}%\")"
      ],
      "metadata": {
        "id": "6rJLlXwKrgQR",
        "colab": {
          "base_uri": "https://localhost:8080/"
        },
        "outputId": "2f82fc1a-eec5-4143-cfc4-16f8a4b36dd7"
      },
      "execution_count": null,
      "outputs": [
        {
          "output_type": "stream",
          "name": "stdout",
          "text": [
            "Accuracy score of GaussianNB model is  83.33333333333334%\n"
          ]
        }
      ]
    },
    {
      "cell_type": "code",
      "source": [
        "from sklearn.naive_bayes import MultinomialNB\n",
        "NB_classifier = MultinomialNB()\n",
        "NB_classifier.fit(x_train_bow,y_train)\n",
        "score = NB_classifier.score(x_test_bow,y_test)\n",
        "print(f\"Accuracy score of MultinomialNB model is  {score*100}%\")"
      ],
      "metadata": {
        "id": "Eu2xjIAgrnbi",
        "colab": {
          "base_uri": "https://localhost:8080/"
        },
        "outputId": "9807fa50-40b7-4b6b-bf0e-14cef87b1830"
      },
      "execution_count": null,
      "outputs": [
        {
          "output_type": "stream",
          "name": "stdout",
          "text": [
            "Accuracy score of MultinomialNB model is  80.0%\n"
          ]
        }
      ]
    },
    {
      "cell_type": "code",
      "source": [
        "# Now I will utilize the NB_classifier object.\n",
        "# As I train my model now I am testing my model to give test data. \n",
        "# The model give me prediction output.  \n",
        "\n",
        "# x_test_bow= 20% text of 200= 40 values\n",
        "predictions=NB_classifier.predict((x_test_bow))"
      ],
      "metadata": {
        "id": "fYxUQPz2rnnl"
      },
      "execution_count": null,
      "outputs": []
    },
    {
      "cell_type": "code",
      "source": [
        "# predictions give me the level output which is predicted by the model\n",
        "\n",
        "predictions"
      ],
      "metadata": {
        "id": "9pJeh_OYsXAR",
        "colab": {
          "base_uri": "https://localhost:8080/"
        },
        "outputId": "835c6e3d-a80d-4fbe-c4d3-536e885588f9"
      },
      "execution_count": null,
      "outputs": [
        {
          "output_type": "execute_result",
          "data": {
            "text/plain": [
              "array([1, 0, 1, 1, 1, 0, 1, 1, 0, 1, 1, 1, 0, 1, 1, 1, 1, 1, 1, 0, 1, 1,\n",
              "       1, 1, 0, 1, 1, 1, 1, 1])"
            ]
          },
          "metadata": {},
          "execution_count": 42
        }
      ]
    },
    {
      "cell_type": "code",
      "source": [
        "y_test   # This is the true level value of x_test_bow"
      ],
      "metadata": {
        "id": "RcxkyhWYZtvc",
        "colab": {
          "base_uri": "https://localhost:8080/"
        },
        "outputId": "58ce171d-b7e5-47c0-ecdf-167909b7e4f4"
      },
      "execution_count": null,
      "outputs": [
        {
          "output_type": "execute_result",
          "data": {
            "text/plain": [
              "array([1, 0, 1, 1, 1, 0, 1, 1, 0, 0, 0, 1, 0, 1, 1, 1, 0, 0, 1, 0, 1, 0,\n",
              "       1, 0, 0, 1, 1, 1, 1, 1])"
            ]
          },
          "metadata": {},
          "execution_count": 43
        }
      ]
    },
    {
      "cell_type": "code",
      "source": [
        "# Confusion Matrix\n",
        "# left to right diagonal give me true positive prediction number\n",
        "# right to left diagonal give me false negative & false positive prediction number\n",
        "\n",
        "from sklearn.metrics import confusion_matrix\n",
        "mat= confusion_matrix(y_test,predictions)\n",
        "mat\n"
      ],
      "metadata": {
        "id": "osejoyZ3Zyke",
        "colab": {
          "base_uri": "https://localhost:8080/"
        },
        "outputId": "841bd891-ea73-4fa9-cae7-05f9c10f21e2"
      },
      "execution_count": null,
      "outputs": [
        {
          "output_type": "execute_result",
          "data": {
            "text/plain": [
              "array([[ 6,  6],\n",
              "       [ 0, 18]])"
            ]
          },
          "metadata": {},
          "execution_count": 44
        }
      ]
    },
    {
      "cell_type": "code",
      "source": [
        "sns.heatmap(mat,annot=True,fmt='d',cbar=False)\n",
        "plt.title('Confution Matrix for Naive Bayes')\n",
        "plt.savefig('Confution_matrix.png')\n",
        "plt.show()"
      ],
      "metadata": {
        "id": "VpJj4UxVZ9RU",
        "colab": {
          "base_uri": "https://localhost:8080/",
          "height": 452
        },
        "outputId": "d12cc658-5d01-482d-820d-c91679c40dfc"
      },
      "execution_count": null,
      "outputs": [
        {
          "output_type": "display_data",
          "data": {
            "text/plain": [
              "<Figure size 640x480 with 1 Axes>"
            ],
            "image/png": "[encoded data removed]"
          },
          "metadata": {}
        }
      ]
    }
  ],
  "metadata": {
    "colab": {
      "provenance": []
    },
    "kernelspec": {
      "display_name": "Python 3",
      "name": "python3"
    },
    "language_info": {
      "name": "python"
    }
  },
  "nbformat": 4,
  "nbformat_minor": 0
}